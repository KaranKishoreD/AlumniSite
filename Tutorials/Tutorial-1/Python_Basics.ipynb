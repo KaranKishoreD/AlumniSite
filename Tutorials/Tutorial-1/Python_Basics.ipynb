{
  "nbformat": 4,
  "nbformat_minor": 0,
  "metadata": {
    "colab": {
      "provenance": [],
      "toc_visible": true,
      "include_colab_link": true
    },
    "kernelspec": {
      "name": "python3",
      "display_name": "Python 3"
    },
    "language_info": {
      "name": "python"
    }
  },
  "cells": [
    {
      "cell_type": "markdown",
      "metadata": {
        "id": "view-in-github",
        "colab_type": "text"
      },
      "source": [
        "<a href=\"https://colab.research.google.com/github/KaranKishoreD/AlumniSite/blob/master/Tutorials/Tutorial-1/Python_Basics.ipynb\" target=\"_parent\"><img src=\"https://colab.research.google.com/assets/colab-badge.svg\" alt=\"Open In Colab\"/></a>"
      ]
    },
    {
      "cell_type": "code",
      "metadata": {
        "id": "alrXoCflGKM8"
      },
      "source": [
        "import matplotlib.pylab as plt\n",
        "import numpy as np"
      ],
      "execution_count": 1,
      "outputs": []
    },
    {
      "cell_type": "markdown",
      "metadata": {
        "id": "ujfIAOPMb11i"
      },
      "source": [
        "<h1> Python Basics </h1>"
      ]
    },
    {
      "cell_type": "markdown",
      "source": [
        "<h1> 1. Data Structures </h1>"
      ],
      "metadata": {
        "id": "oqSFn0gFJDfA"
      }
    },
    {
      "cell_type": "markdown",
      "source": [
        "<h2> Lists </h2>\n",
        "A list in Python is a sequence of anything!\n"
      ],
      "metadata": {
        "id": "_GRuTTpS-wz1"
      }
    },
    {
      "cell_type": "code",
      "source": [
        "my_list=[1,'a','hello',[1,1,\"hello\"],(1,3,5),{1,2,3}]\n",
        "\n",
        "#accessing the elements of a list\n",
        "print(my_list[1])\n",
        "print(my_list[3][0])\n",
        "print(my_list[3][2][0])\n",
        "print(my_list[-1])\n",
        "print(my_list[-2])"
      ],
      "metadata": {
        "id": "E0atEv9U_HyI",
        "colab": {
          "base_uri": "https://localhost:8080/"
        },
        "outputId": "d1a1b341-42f8-48b0-b562-b18a940eb043"
      },
      "execution_count": 2,
      "outputs": [
        {
          "output_type": "stream",
          "name": "stdout",
          "text": [
            "a\n",
            "1\n",
            "h\n",
            "{1, 2, 3}\n",
            "(1, 3, 5)\n"
          ]
        }
      ]
    },
    {
      "cell_type": "markdown",
      "source": [
        "List Slicing"
      ],
      "metadata": {
        "id": "WkCqNO9q_3QJ"
      }
    },
    {
      "cell_type": "code",
      "source": [
        "print(my_list[:2])\n",
        "print(my_list[2:])\n",
        "print(my_list[2:4])\n",
        "print(my_list[-4:-2])"
      ],
      "metadata": {
        "id": "Y09faxfq_6hR",
        "colab": {
          "base_uri": "https://localhost:8080/"
        },
        "outputId": "c363573d-8385-4cb6-e197-fcc0180cdae0"
      },
      "execution_count": 3,
      "outputs": [
        {
          "output_type": "stream",
          "name": "stdout",
          "text": [
            "[1, 'a']\n",
            "['hello', [1, 1, 'hello'], (1, 3, 5), {1, 2, 3}]\n",
            "['hello', [1, 1, 'hello']]\n",
            "['hello', [1, 1, 'hello']]\n"
          ]
        }
      ]
    },
    {
      "cell_type": "markdown",
      "source": [
        "Lists are mutable; you can insert and delete elements"
      ],
      "metadata": {
        "id": "S3GeTpG4_oWM"
      }
    },
    {
      "cell_type": "code",
      "source": [
        "my_list[0]=2\n",
        "print(my_list)\n",
        "\n",
        "my_list=my_list+[2]\n",
        "print(my_list)\n",
        "\n",
        "my_list=my_list+[3,4]\n",
        "print(my_list)\n",
        "\n",
        "del my_list[6]\n",
        "print(my_list)\n",
        "\n",
        "del my_list[6:8]\n",
        "print(my_list)"
      ],
      "metadata": {
        "id": "6cVnxlH3AHC7",
        "colab": {
          "base_uri": "https://localhost:8080/"
        },
        "outputId": "82e4fb9b-f2a0-43cf-dd2b-ec103b25c701"
      },
      "execution_count": 4,
      "outputs": [
        {
          "output_type": "stream",
          "name": "stdout",
          "text": [
            "[2, 'a', 'hello', [1, 1, 'hello'], (1, 3, 5), {1, 2, 3}]\n",
            "[2, 'a', 'hello', [1, 1, 'hello'], (1, 3, 5), {1, 2, 3}, 2]\n",
            "[2, 'a', 'hello', [1, 1, 'hello'], (1, 3, 5), {1, 2, 3}, 2, 3, 4]\n",
            "[2, 'a', 'hello', [1, 1, 'hello'], (1, 3, 5), {1, 2, 3}, 3, 4]\n",
            "[2, 'a', 'hello', [1, 1, 'hello'], (1, 3, 5), {1, 2, 3}]\n"
          ]
        }
      ]
    },
    {
      "cell_type": "markdown",
      "source": [
        "List Methods"
      ],
      "metadata": {
        "id": "5Adct5HVAfTV"
      }
    },
    {
      "cell_type": "code",
      "source": [
        "my_list.append(\"append\") #to add only a single element at the end of the list\n",
        "print(my_list)"
      ],
      "metadata": {
        "id": "YkVyl9cAA9OJ",
        "colab": {
          "base_uri": "https://localhost:8080/"
        },
        "outputId": "4055d816-5d2b-44e6-fe19-7470c97c0721"
      },
      "execution_count": 5,
      "outputs": [
        {
          "output_type": "stream",
          "name": "stdout",
          "text": [
            "[2, 'a', 'hello', [1, 1, 'hello'], (1, 3, 5), {1, 2, 3}, 'append']\n"
          ]
        }
      ]
    },
    {
      "cell_type": "code",
      "source": [
        "my_list.extend([5,6,7])   #to add several items to the list\n",
        "print(my_list)"
      ],
      "metadata": {
        "id": "TeO3MZ0eA_QF",
        "colab": {
          "base_uri": "https://localhost:8080/"
        },
        "outputId": "5256dcd6-f8f5-45c3-ee1a-4fc7abd4c1c7"
      },
      "execution_count": 6,
      "outputs": [
        {
          "output_type": "stream",
          "name": "stdout",
          "text": [
            "[2, 'a', 'hello', [1, 1, 'hello'], (1, 3, 5), {1, 2, 3}, 'append', 5, 6, 7]\n"
          ]
        }
      ]
    },
    {
      "cell_type": "code",
      "source": [
        "print(my_list.pop(2))\t#the item at the given index is removed\n",
        "print(my_list)\t\t#the return value of this function is the indicated item\n",
        "print(my_list.pop())\t#if no argument is passed the last item is removed and returned\n",
        "print(my_list)"
      ],
      "metadata": {
        "id": "1rfsPdp5BLDO",
        "colab": {
          "base_uri": "https://localhost:8080/"
        },
        "outputId": "a669281c-757f-46aa-894e-8aac2aa7727f"
      },
      "execution_count": 7,
      "outputs": [
        {
          "output_type": "stream",
          "name": "stdout",
          "text": [
            "hello\n",
            "[2, 'a', [1, 1, 'hello'], (1, 3, 5), {1, 2, 3}, 'append', 5, 6, 7]\n",
            "7\n",
            "[2, 'a', [1, 1, 'hello'], (1, 3, 5), {1, 2, 3}, 'append', 5, 6]\n"
          ]
        }
      ]
    },
    {
      "cell_type": "markdown",
      "source": [
        "There are many such methods that you can perform on lists..."
      ],
      "metadata": {
        "id": "io6fCPaOBU2p"
      }
    },
    {
      "cell_type": "code",
      "source": [
        "numlist=[12,2142,1,101,105]\n",
        "numlist.sort()\n",
        "print(numlist)\n",
        "numlist.sort(reverse=True)\n",
        "print(numlist)"
      ],
      "metadata": {
        "id": "f8GwAP9hBrhv",
        "colab": {
          "base_uri": "https://localhost:8080/"
        },
        "outputId": "1dab5c09-067e-4d31-873a-e5bf46e3bb88"
      },
      "execution_count": 8,
      "outputs": [
        {
          "output_type": "stream",
          "name": "stdout",
          "text": [
            "[1, 12, 101, 105, 2142]\n",
            "[2142, 105, 101, 12, 1]\n"
          ]
        }
      ]
    },
    {
      "cell_type": "markdown",
      "source": [
        "There is another in-built fn \"sorted\" which takes the list as one of the arguments and it returns the sorted list the other two arguments are similar to that of the sort()"
      ],
      "metadata": {
        "id": "GwEOrmpABtgf"
      }
    },
    {
      "cell_type": "code",
      "source": [
        "print(sorted(numlist))"
      ],
      "metadata": {
        "id": "nyWUtlOuBvuR",
        "colab": {
          "base_uri": "https://localhost:8080/"
        },
        "outputId": "a65bf205-e79d-42c9-c9c8-6847ef53dbe4"
      },
      "execution_count": 9,
      "outputs": [
        {
          "output_type": "stream",
          "name": "stdout",
          "text": [
            "[1, 12, 101, 105, 2142]\n"
          ]
        }
      ]
    },
    {
      "cell_type": "markdown",
      "source": [
        "ALIASING LISTS"
      ],
      "metadata": {
        "id": "9N2wYJBhB_98"
      }
    },
    {
      "cell_type": "code",
      "source": [
        "A=[\"cocoa\",1,2]    #A is a variable which refers to the list\n",
        "B=A\t\t   #B is yet another variable which refers to the same list\n",
        "\n",
        "print(\"A is \",A)\n",
        "print(\"B is \",B)\n"
      ],
      "metadata": {
        "id": "DDxVgdhaDIkQ",
        "colab": {
          "base_uri": "https://localhost:8080/"
        },
        "outputId": "00a05153-36e8-4b48-a785-025e5eb22c26"
      },
      "execution_count": 10,
      "outputs": [
        {
          "output_type": "stream",
          "name": "stdout",
          "text": [
            "A is  ['cocoa', 1, 2]\n",
            "B is  ['cocoa', 1, 2]\n"
          ]
        }
      ]
    },
    {
      "cell_type": "code",
      "source": [
        "A[0]=\"manjul\"\n",
        "print(\"A is \",A)\n",
        "print(\"B is \",B)"
      ],
      "metadata": {
        "id": "3v5m2NLMDMKR",
        "colab": {
          "base_uri": "https://localhost:8080/"
        },
        "outputId": "592fa564-61df-4e46-ab7d-3801a2fbaf11"
      },
      "execution_count": 11,
      "outputs": [
        {
          "output_type": "stream",
          "name": "stdout",
          "text": [
            "A is  ['manjul', 1, 2]\n",
            "B is  ['manjul', 1, 2]\n"
          ]
        }
      ]
    },
    {
      "cell_type": "markdown",
      "source": [
        "This will change the list which is refered to by A which means B is changed as well"
      ],
      "metadata": {
        "id": "9COaFNJkDQCO"
      }
    },
    {
      "cell_type": "markdown",
      "source": [
        "MAKING A CLONE"
      ],
      "metadata": {
        "id": "-49LPtJsDeFz"
      }
    },
    {
      "cell_type": "code",
      "source": [
        "C=A[:]\t\t#This creates a copy of the list and hence C now refers to a different list\n",
        "\n",
        "print(\"A is \",A)\n",
        "print(\"C is \",C)\n"
      ],
      "metadata": {
        "id": "NOw8lK9sDa_z",
        "colab": {
          "base_uri": "https://localhost:8080/"
        },
        "outputId": "fb437810-3078-44ad-bb53-5a9599fa4e51"
      },
      "execution_count": 12,
      "outputs": [
        {
          "output_type": "stream",
          "name": "stdout",
          "text": [
            "A is  ['manjul', 1, 2]\n",
            "C is  ['manjul', 1, 2]\n"
          ]
        }
      ]
    },
    {
      "cell_type": "code",
      "source": [
        "A[0]=\"cocoa\"\t#this will not change the list referred by C\n",
        "print(\"A is \",A)\n",
        "print(\"C is \",C)"
      ],
      "metadata": {
        "id": "T6NjgqatD_pg",
        "colab": {
          "base_uri": "https://localhost:8080/"
        },
        "outputId": "d8b472ec-03b2-4ff3-9d36-5f3409cbf303"
      },
      "execution_count": 13,
      "outputs": [
        {
          "output_type": "stream",
          "name": "stdout",
          "text": [
            "A is  ['cocoa', 1, 2]\n",
            "C is  ['manjul', 1, 2]\n"
          ]
        }
      ]
    },
    {
      "cell_type": "code",
      "source": [
        "#We could even do it this way\n",
        "D=A.copy()\n",
        "print(D)"
      ],
      "metadata": {
        "id": "Yi28fnF6D_jp",
        "colab": {
          "base_uri": "https://localhost:8080/"
        },
        "outputId": "81043039-d211-4270-c740-075da5ea4bef"
      },
      "execution_count": 14,
      "outputs": [
        {
          "output_type": "stream",
          "name": "stdout",
          "text": [
            "['cocoa', 1, 2]\n"
          ]
        }
      ]
    },
    {
      "cell_type": "markdown",
      "source": [
        "LIST COMPREHENSION"
      ],
      "metadata": {
        "id": "z9OnNbOYD0AQ"
      }
    },
    {
      "cell_type": "code",
      "source": [
        "\n",
        "listy=[2**x for x in range(0,10)]\n",
        "print(listy)\n",
        "\n",
        "listy=[2**x for x in range(0,10) if x<5]\t#if statement here is called a filter\n",
        "print(listy)\n",
        "\n"
      ],
      "metadata": {
        "id": "S9q1DyJu-cxb",
        "colab": {
          "base_uri": "https://localhost:8080/"
        },
        "outputId": "509f3888-8eb3-4a30-8649-473d7e8a2f3e"
      },
      "execution_count": 15,
      "outputs": [
        {
          "output_type": "stream",
          "name": "stdout",
          "text": [
            "[1, 2, 4, 8, 16, 32, 64, 128, 256, 512]\n",
            "[1, 2, 4, 8, 16]\n"
          ]
        }
      ]
    },
    {
      "cell_type": "markdown",
      "source": [
        "<h2> Strings </h2>"
      ],
      "metadata": {
        "id": "1rTsdIStEOvA"
      }
    },
    {
      "cell_type": "code",
      "source": [
        "my_string=\"hello!\"\n",
        "mystr='''dfgdfg\\\n",
        "dgdgdgdg'''\t\t#multi line strings are defined using triple inverted commas\n",
        "\n",
        "print(my_string)\n",
        "print(mystr)\n"
      ],
      "metadata": {
        "id": "waUGsvoxE5-3",
        "colab": {
          "base_uri": "https://localhost:8080/"
        },
        "outputId": "87f04532-e858-4096-83db-f62926645c5b"
      },
      "execution_count": 16,
      "outputs": [
        {
          "output_type": "stream",
          "name": "stdout",
          "text": [
            "hello!\n",
            "dfgdfgdgdgdgdg\n"
          ]
        }
      ]
    },
    {
      "cell_type": "markdown",
      "source": [
        "More slicing examples: Guess what each of them would give before printing..."
      ],
      "metadata": {
        "id": "3kEaTd6nGLku"
      }
    },
    {
      "cell_type": "code",
      "source": [
        "string=\"abcdefgh\"\n",
        "\n",
        "print(\"string[2:6:2]\",string[2:6:2])\n",
        "\n",
        "print(\"string[-1::-1]\",string[-1::-1])\n",
        "\n",
        "print(\"string[-1::]\",string[-1::])\n",
        "\n",
        "print(\"string[::]\",string[::])\n",
        "\n",
        "print(\"string[::-1]\",string[::-1])\n"
      ],
      "metadata": {
        "id": "P7C3Z8SvFhYN",
        "colab": {
          "base_uri": "https://localhost:8080/"
        },
        "outputId": "0c31102e-7eb5-463f-e9c8-6adb6b50e93f"
      },
      "execution_count": 17,
      "outputs": [
        {
          "output_type": "stream",
          "name": "stdout",
          "text": [
            "string[2:6:2] ce\n",
            "string[-1::-1] hgfedcba\n",
            "string[-1::] h\n",
            "string[::] abcdefgh\n",
            "string[::-1] hgfedcba\n"
          ]
        }
      ]
    },
    {
      "cell_type": "markdown",
      "source": [
        "slicing is very much similar to that of lists\n",
        "\n",
        "strings are IMMUTABLE i.e. they cannot be changed and only entire deletion is possible"
      ],
      "metadata": {
        "id": "aqhfW0WaFHQj"
      }
    },
    {
      "cell_type": "markdown",
      "source": [
        "<h2> Tuples </h2>"
      ],
      "metadata": {
        "id": "_ex1rEwgGawe"
      }
    },
    {
      "cell_type": "code",
      "source": [
        "#creating tuples\n",
        "my_tuple=\"hello\",1,2\n",
        "print(my_tuple)\n",
        "my_tuple=(\"hello\",1,3)\n",
        "print(my_tuple)\n"
      ],
      "metadata": {
        "id": "9EK91R6jGnWs",
        "colab": {
          "base_uri": "https://localhost:8080/"
        },
        "outputId": "96561fbe-58bb-4d33-9767-26334379feb0"
      },
      "execution_count": 18,
      "outputs": [
        {
          "output_type": "stream",
          "name": "stdout",
          "text": [
            "('hello', 1, 2)\n",
            "('hello', 1, 3)\n"
          ]
        }
      ]
    },
    {
      "cell_type": "markdown",
      "source": [
        "indexing and slicing are same as that of lists\n",
        "\n",
        "\n",
        "TUPLES ARE IMMUTABLE"
      ],
      "metadata": {
        "id": "nTaaBVO3GttQ"
      }
    },
    {
      "cell_type": "markdown",
      "source": [
        "<h2> Sets </h2>\n",
        "DEFINITION:an unordered collection of items which are unique(no duplicates) and immutable.\n"
      ],
      "metadata": {
        "id": "_z8X6bmVG0Dp"
      }
    },
    {
      "cell_type": "code",
      "source": [
        "#sets cannot have lists,sets or dictionaries as its elements\n",
        "#Creating sets\n",
        "my_set={1,'a','hola',(2,3,4),1}\n",
        "\n",
        "print(my_set)\n"
      ],
      "metadata": {
        "id": "pU8wxeBdGy2C",
        "colab": {
          "base_uri": "https://localhost:8080/"
        },
        "outputId": "ef4e5d2b-de82-48b5-eab8-9265ee1ae6bb"
      },
      "execution_count": 19,
      "outputs": [
        {
          "output_type": "stream",
          "name": "stdout",
          "text": [
            "{1, 'hola', (2, 3, 4), 'a'}\n"
          ]
        }
      ]
    },
    {
      "cell_type": "markdown",
      "source": [
        "<h2>Dictionaries</h2>"
      ],
      "metadata": {
        "id": "zlHae6oeHT-O"
      }
    },
    {
      "cell_type": "markdown",
      "source": [
        "DEFINITION: Dictionaries are also unordered collection like sets , for each item it has a key and its corresponding value pair.    key:value\n",
        "\n",
        "Values can be any datatypes\n",
        "\n",
        "But KEYS must be IMMUTABLE like numbers or strings or tuples(inside which also only immutable data types are allowed) and further the keys are to be UNIQUE  \n",
        "\n"
      ],
      "metadata": {
        "id": "9-7EhxXQHo6h"
      }
    },
    {
      "cell_type": "code",
      "source": [
        "#creating dictionaries\n",
        "my_dict={1:23,'a':'hello',\"hi\":{1:'a',2:'e'},(1,2):[(1,3),'s']}"
      ],
      "metadata": {
        "id": "mN0EZQvcHZSy"
      },
      "execution_count": 20,
      "outputs": []
    },
    {
      "cell_type": "code",
      "source": [
        "my_dict1 = dict([(1,'apple'), (2,'ball')])\t#converted a list(in proper format) to dictionary"
      ],
      "metadata": {
        "id": "PiOXb3EdIXvH"
      },
      "execution_count": 21,
      "outputs": []
    },
    {
      "cell_type": "markdown",
      "source": [
        "Please feel free to experiment these data structures and their methods. And then you can move to the exercises below."
      ],
      "metadata": {
        "id": "xrMq7SiVHzd3"
      }
    },
    {
      "cell_type": "markdown",
      "source": [
        "<h1> 2. Functions </h1>"
      ],
      "metadata": {
        "id": "NCKbF-k8I_jX"
      }
    },
    {
      "cell_type": "markdown",
      "metadata": {
        "id": "qe9H4zT1b5fN"
      },
      "source": [
        "**Exercise #1 :** Fibonacci sequence\n",
        "\n",
        "A Fibonacci sequence is the integer sequence of 0, 1, 1, 2, 3, 5, 8. The first two terms are 0 and 1. All other terms are obtained by adding the preceding two terms.This means to say the nth term is the sum of (n-1)th and (n-2)th term.\n",
        "\n",
        "**Your Task**: Implement the functions `recur_fibo`"
      ]
    },
    {
      "cell_type": "code",
      "metadata": {
        "id": "zP9ueOPUb2Yz",
        "colab": {
          "base_uri": "https://localhost:8080/"
        },
        "outputId": "cd5598b0-51a1-44e1-8cb3-c2dd1bf7eaca"
      },
      "source": [
        "def recur_fibo(n):\n",
        "\n",
        "  #Implement the recursive call escape statement\n",
        "  ## YOUR CODE STARTS HERE\n",
        "  if n <= 1:\n",
        "    return 0\n",
        "  elif n == 2:\n",
        "    return 1\n",
        "  else:\n",
        "    return recur_fibo(n-1) + recur_fibo(n-2)\n",
        "\n",
        "  ## YOUR CODE ENDS HERE\n",
        "  return None\n",
        "\n",
        "nterms = 10 # display the Fibonacci sequence up to n-th term\n",
        "\n",
        "# check if the number of terms is valid\n",
        "for i in range(1,nterms+1):\n",
        "  print(f'{i}th term is {recur_fibo(i)}')"
      ],
      "execution_count": 22,
      "outputs": [
        {
          "output_type": "stream",
          "name": "stdout",
          "text": [
            "1th term is 0\n",
            "2th term is 1\n",
            "3th term is 1\n",
            "4th term is 2\n",
            "5th term is 3\n",
            "6th term is 5\n",
            "7th term is 8\n",
            "8th term is 13\n",
            "9th term is 21\n",
            "10th term is 34\n"
          ]
        }
      ]
    },
    {
      "cell_type": "markdown",
      "metadata": {
        "id": "knaJKaldfhMC"
      },
      "source": [
        "**Exercise #2:** Lambda function\n",
        "\n",
        "A lambda function is a small anonymous function that can take any number of arguments, but can only have one expression.\n",
        "\n",
        "**Your Task**: Implement Lambda function for `sigmoid_lambda` and `relu_lambda` whose definition is given below:\n",
        "\n",
        "$$sigmoid(x)=\\frac{1}{1+e^x}$$\n",
        "$$ReLU(x)=x^+ = max{(0,x)}$$"
      ]
    },
    {
      "cell_type": "code",
      "metadata": {
        "id": "WaHJERI5fvrh"
      },
      "source": [
        "def sigmoid(x):\n",
        "  sigmoid = 1 / (1 + np.exp(-x))\n",
        "  return sigmoid\n",
        "\n",
        "## Implement the above sigmoid function using python lambda functions\n",
        "## YOUR CODE STARTS HERE\n",
        "sigmoid_lambda = lambda x: 1 / (1+np.exp(-x))\n",
        "## YOUR CODE ENDS HERE\n",
        "\n",
        "assert sigmoid(10)==sigmoid_lambda(10)"
      ],
      "execution_count": 25,
      "outputs": []
    },
    {
      "cell_type": "code",
      "metadata": {
        "id": "7P5FQQz-hPcI"
      },
      "source": [
        "def relu(x):\n",
        "  relu = x if x>0 else 0\n",
        "  return relu\n",
        "\n",
        "## Implement the above sigmoid function using python lambda functions\n",
        "## YOUR CODE STARTS HERE\n",
        "relu_lambda = lambda x: x if x > 0 else 0\n",
        "## YOUR CODE ENDS HERE\n",
        "assert relu(10)==relu_lambda(10)"
      ],
      "execution_count": 30,
      "outputs": []
    },
    {
      "cell_type": "markdown",
      "metadata": {
        "id": "KeA4VNsth4tQ"
      },
      "source": [
        "**Exercise #3:** Python map keyword\n",
        "\n",
        "**Your Task**: Using the lambda functions and python's map keyword apply `sigmoid` and `relu` on a list of numbers from -20 to 20.\n",
        "Store the output in a list and print it."
      ]
    },
    {
      "cell_type": "code",
      "metadata": {
        "id": "kN6zQyPch3PT"
      },
      "source": [
        "x_list = [*range(-20,20)]\n",
        "## YOUR CODE STARTS HERE\n",
        "\n",
        "## YOUR CODE ENDS HERE\n",
        "print(sigmoid_out)\n",
        "plt.plot(x_list,sigmoid_out)"
      ],
      "execution_count": null,
      "outputs": []
    },
    {
      "cell_type": "code",
      "metadata": {
        "id": "mDLEqXh2iLMf"
      },
      "source": [
        "x_list = [*range(-20,20)]\n",
        "## YOUR CODE STARTS HERE\n",
        "\n",
        "## YOUR CODE ENDS HERE\n",
        "print(relu_out)\n",
        "plt.plot(x_list,relu_out)"
      ],
      "execution_count": null,
      "outputs": []
    },
    {
      "cell_type": "markdown",
      "source": [
        "**Exercise #4:** On Data structures\n",
        "\n",
        "**Your Task**: You are given a paragraph as a string. Write a function to return a sorted dictionary with keys as the set of words and the corresponding values as their frequency in the paragraph"
      ],
      "metadata": {
        "id": "-dobg1NJLrUc"
      }
    },
    {
      "cell_type": "code",
      "source": [
        "def count_word_frequency(paragraph):\n",
        "    # Convert the paragraph to lowercase to ensure case-insensitivity\n",
        "    paragraph = paragraph.lower()\n",
        "\n",
        "    # Split the paragraph into words\n",
        "    words = paragraph.split()\n",
        "\n",
        "    # Initialize an empty dictionary to store word frequencies\n",
        "    word_freq = {}\n",
        "\n",
        "    # Write a for loop to update the frequencies of each word\n",
        "    ## YOUR CODE STARTS HERE\n",
        "    # Writing naive (uncorrected code)\n",
        "    for word in words:\n",
        "      if word in word_freq:\n",
        "        word_freq[word] += 1\n",
        "      else:\n",
        "        word_freq[word] = 1\n",
        "    ## YOUR CODE ENDS HERE\n",
        "\n",
        "    return dict(sorted(word_freq.items(), key=lambda item: item[1], reverse=True))\n"
      ],
      "metadata": {
        "id": "2QqqW13jNUcW"
      },
      "execution_count": 31,
      "outputs": []
    },
    {
      "cell_type": "code",
      "source": [
        "# Test the function\n",
        "paragraph = \"\"\"\n",
        "Language is a fundamental aspect of human communication. It allows us to convey ideas, emotions, and information to one another. From spoken words to written texts, language takes various forms, each with its unique beauty. The evolution of languages has been a fascinating journey, shaped by cultural interactions and historical events.\n",
        "\n",
        "English, one of the most widely spoken languages globally , has a rich history. It originated in England and gradually spread across the world due to colonization and globalization. Today, it serves as a lingua franca for international business, diplomacy, and academia. Its flexibility and adaptability have contributed to its widespread adoption.\n",
        "\n",
        "Languages are not just a means of communication; they also shape the way we think and perceive the world. Linguists study the intricate structures and grammar of languages to understand how they influence cognition. Each language reflects the culture and values of its speakers, carrying the weight of their history.\n",
        "\n",
        "As technology advances , language continues to evolve. New words and phrases emerge, reflecting modern trends and innovations. The internet , with its global reach, has played a significant role in disseminating languages and creating new digital communication styles.\n",
        "\n",
        "Preserving endangered languages is an essential endeavor to maintain cultural diversity. Many languages are at risk of disappearing as fewer speakers pass them on to the next generation. Efforts are being made to document and revitalize endangered languages, recognizing their significance in preserving unique cultural heritage.\n",
        "\n",
        "In conclusion , language is a powerful tool that shapes human interactions and defines cultures. It is a bridge that connects people across the world, fostering understanding and empathy. As we cherish and celebrate linguistic diversity, we embrace the richness of humanity's collective heritage.\n",
        "\"\"\"\n"
      ],
      "metadata": {
        "id": "lOeT7YZNPgci"
      },
      "execution_count": 32,
      "outputs": []
    },
    {
      "cell_type": "code",
      "source": [
        "result = count_word_frequency(paragraph)\n",
        "print(result)"
      ],
      "metadata": {
        "id": "fbi1AzwVPnVt",
        "colab": {
          "base_uri": "https://localhost:8080/"
        },
        "outputId": "949f51ed-5c27-42e2-e95c-b584c06f2004"
      },
      "execution_count": 33,
      "outputs": [
        {
          "output_type": "stream",
          "name": "stdout",
          "text": [
            "{'and': 16, 'the': 12, 'to': 10, 'of': 9, 'a': 8, 'languages': 7, 'language': 5, 'its': 5, 'is': 4, 'it': 4, ',': 4, 'in': 4, 'as': 4, 'has': 3, 'cultural': 3, 'are': 3, 'we': 3, 'human': 2, 'one': 2, 'spoken': 2, 'words': 2, 'each': 2, 'with': 2, 'unique': 2, 'interactions': 2, 'history.': 2, 'across': 2, 'they': 2, 'their': 2, 'new': 2, 'preserving': 2, 'endangered': 2, 'heritage.': 2, 'that': 2, 'fundamental': 1, 'aspect': 1, 'communication.': 1, 'allows': 1, 'us': 1, 'convey': 1, 'ideas,': 1, 'emotions,': 1, 'information': 1, 'another.': 1, 'from': 1, 'written': 1, 'texts,': 1, 'takes': 1, 'various': 1, 'forms,': 1, 'beauty.': 1, 'evolution': 1, 'been': 1, 'fascinating': 1, 'journey,': 1, 'shaped': 1, 'by': 1, 'historical': 1, 'events.': 1, 'english,': 1, 'most': 1, 'widely': 1, 'globally': 1, 'rich': 1, 'originated': 1, 'england': 1, 'gradually': 1, 'spread': 1, 'world': 1, 'due': 1, 'colonization': 1, 'globalization.': 1, 'today,': 1, 'serves': 1, 'lingua': 1, 'franca': 1, 'for': 1, 'international': 1, 'business,': 1, 'diplomacy,': 1, 'academia.': 1, 'flexibility': 1, 'adaptability': 1, 'have': 1, 'contributed': 1, 'widespread': 1, 'adoption.': 1, 'not': 1, 'just': 1, 'means': 1, 'communication;': 1, 'also': 1, 'shape': 1, 'way': 1, 'think': 1, 'perceive': 1, 'world.': 1, 'linguists': 1, 'study': 1, 'intricate': 1, 'structures': 1, 'grammar': 1, 'understand': 1, 'how': 1, 'influence': 1, 'cognition.': 1, 'reflects': 1, 'culture': 1, 'values': 1, 'speakers,': 1, 'carrying': 1, 'weight': 1, 'technology': 1, 'advances': 1, 'continues': 1, 'evolve.': 1, 'phrases': 1, 'emerge,': 1, 'reflecting': 1, 'modern': 1, 'trends': 1, 'innovations.': 1, 'internet': 1, 'global': 1, 'reach,': 1, 'played': 1, 'significant': 1, 'role': 1, 'disseminating': 1, 'creating': 1, 'digital': 1, 'communication': 1, 'styles.': 1, 'an': 1, 'essential': 1, 'endeavor': 1, 'maintain': 1, 'diversity.': 1, 'many': 1, 'at': 1, 'risk': 1, 'disappearing': 1, 'fewer': 1, 'speakers': 1, 'pass': 1, 'them': 1, 'on': 1, 'next': 1, 'generation.': 1, 'efforts': 1, 'being': 1, 'made': 1, 'document': 1, 'revitalize': 1, 'languages,': 1, 'recognizing': 1, 'significance': 1, 'conclusion': 1, 'powerful': 1, 'tool': 1, 'shapes': 1, 'defines': 1, 'cultures.': 1, 'bridge': 1, 'connects': 1, 'people': 1, 'world,': 1, 'fostering': 1, 'understanding': 1, 'empathy.': 1, 'cherish': 1, 'celebrate': 1, 'linguistic': 1, 'diversity,': 1, 'embrace': 1, 'richness': 1, \"humanity's\": 1, 'collective': 1}\n"
          ]
        }
      ]
    },
    {
      "cell_type": "markdown",
      "source": [
        "[OPTIONAL Exercise] Do you observe any mistake in the output? Can u point out which part of the provided code is leading to this mistake and possibly correct it."
      ],
      "metadata": {
        "id": "U3zUDcQnR88t"
      }
    },
    {
      "cell_type": "markdown",
      "source": [
        "The above code consider space(s) \" \" as the only character separating any consecutive words. However there are other characters such as punctuations  like \";\", \",\", etc. which are being considered as a word. To rectify this, we need to replace all such characters with a space (\" \")."
      ],
      "metadata": {
        "id": "W-QrvhON_Kum"
      }
    },
    {
      "cell_type": "code",
      "source": [
        "def count_word_frequency(paragraph):\n",
        "    # Convert the paragraph to lowercase to ensure case-insensitivity\n",
        "    paragraph = paragraph.lower().replace(\",\", \" \").replace(\".\", \" \").replace(\";\", \" \").replace(\"!\", \" \").replace(\":\", \" \").replace(\"?\", \" \")\n",
        "\n",
        "    # Split the paragraph into words\n",
        "    words = paragraph.split()\n",
        "\n",
        "    # Initialize an empty dictionary to store word frequencies\n",
        "    word_freq = {}\n",
        "\n",
        "    # Write a for loop to update the frequencies of each word\n",
        "    ## YOUR CODE STARTS HERE\n",
        "    # Writing naive (uncorrected code)\n",
        "    for word in words:\n",
        "      if word in word_freq:\n",
        "        word_freq[word] += 1\n",
        "      else:\n",
        "        word_freq[word] = 1\n",
        "    ## YOUR CODE ENDS HERE\n",
        "\n",
        "    return dict(sorted(word_freq.items(), key=lambda item: item[1], reverse=True))"
      ],
      "metadata": {
        "id": "Xty4XaQeRJnO"
      },
      "execution_count": 34,
      "outputs": []
    },
    {
      "cell_type": "code",
      "source": [
        "result = count_word_frequency(paragraph)\n",
        "print(result)"
      ],
      "metadata": {
        "id": "Bj_Baf-P_xTH",
        "outputId": "adc2adbe-67f4-4449-f7e3-acc1db759aa3",
        "colab": {
          "base_uri": "https://localhost:8080/"
        }
      },
      "execution_count": 35,
      "outputs": [
        {
          "output_type": "stream",
          "name": "stdout",
          "text": [
            "{'and': 16, 'the': 12, 'to': 10, 'of': 9, 'a': 8, 'languages': 8, 'language': 5, 'its': 5, 'is': 4, 'it': 4, 'in': 4, 'as': 4, 'communication': 3, 'has': 3, 'cultural': 3, 'world': 3, 'are': 3, 'we': 3, 'human': 2, 'one': 2, 'spoken': 2, 'words': 2, 'each': 2, 'with': 2, 'unique': 2, 'interactions': 2, 'history': 2, 'across': 2, 'they': 2, 'speakers': 2, 'their': 2, 'new': 2, 'preserving': 2, 'endangered': 2, 'diversity': 2, 'heritage': 2, 'that': 2, 'fundamental': 1, 'aspect': 1, 'allows': 1, 'us': 1, 'convey': 1, 'ideas': 1, 'emotions': 1, 'information': 1, 'another': 1, 'from': 1, 'written': 1, 'texts': 1, 'takes': 1, 'various': 1, 'forms': 1, 'beauty': 1, 'evolution': 1, 'been': 1, 'fascinating': 1, 'journey': 1, 'shaped': 1, 'by': 1, 'historical': 1, 'events': 1, 'english': 1, 'most': 1, 'widely': 1, 'globally': 1, 'rich': 1, 'originated': 1, 'england': 1, 'gradually': 1, 'spread': 1, 'due': 1, 'colonization': 1, 'globalization': 1, 'today': 1, 'serves': 1, 'lingua': 1, 'franca': 1, 'for': 1, 'international': 1, 'business': 1, 'diplomacy': 1, 'academia': 1, 'flexibility': 1, 'adaptability': 1, 'have': 1, 'contributed': 1, 'widespread': 1, 'adoption': 1, 'not': 1, 'just': 1, 'means': 1, 'also': 1, 'shape': 1, 'way': 1, 'think': 1, 'perceive': 1, 'linguists': 1, 'study': 1, 'intricate': 1, 'structures': 1, 'grammar': 1, 'understand': 1, 'how': 1, 'influence': 1, 'cognition': 1, 'reflects': 1, 'culture': 1, 'values': 1, 'carrying': 1, 'weight': 1, 'technology': 1, 'advances': 1, 'continues': 1, 'evolve': 1, 'phrases': 1, 'emerge': 1, 'reflecting': 1, 'modern': 1, 'trends': 1, 'innovations': 1, 'internet': 1, 'global': 1, 'reach': 1, 'played': 1, 'significant': 1, 'role': 1, 'disseminating': 1, 'creating': 1, 'digital': 1, 'styles': 1, 'an': 1, 'essential': 1, 'endeavor': 1, 'maintain': 1, 'many': 1, 'at': 1, 'risk': 1, 'disappearing': 1, 'fewer': 1, 'pass': 1, 'them': 1, 'on': 1, 'next': 1, 'generation': 1, 'efforts': 1, 'being': 1, 'made': 1, 'document': 1, 'revitalize': 1, 'recognizing': 1, 'significance': 1, 'conclusion': 1, 'powerful': 1, 'tool': 1, 'shapes': 1, 'defines': 1, 'cultures': 1, 'bridge': 1, 'connects': 1, 'people': 1, 'fostering': 1, 'understanding': 1, 'empathy': 1, 'cherish': 1, 'celebrate': 1, 'linguistic': 1, 'embrace': 1, 'richness': 1, \"humanity's\": 1, 'collective': 1}\n"
          ]
        }
      ]
    },
    {
      "cell_type": "code",
      "source": [],
      "metadata": {
        "id": "ehifkh56_zl4"
      },
      "execution_count": null,
      "outputs": []
    }
  ]
}